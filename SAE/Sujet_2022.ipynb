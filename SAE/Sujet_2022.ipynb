{
 "cells": [
  {
   "cell_type": "markdown",
   "metadata": {
    "deletable": false,
    "editable": false,
    "run_control": {
     "frozen": true
    }
   },
   "source": [
    "# <center> Etude de communautés dans un réseau social</center>\n",
    "<center> SAE 1.01 / 2022 - 23 </center>\n",
    "\n"
   ]
  },
  {
   "cell_type": "markdown",
   "metadata": {
    "deletable": false,
    "editable": false,
    "run_control": {
     "frozen": true
    }
   },
   "source": [
    "Cette SAE est à faire en **binôme**.\n",
    "\n",
    "**Calendrier**\n",
    "- Un contrôle de 2h en lien avec le contenu de cette SAE aura lieu le mercredi **26 octobre** 2022.\n",
    "- Le projet est à rendre le vendredi **28 octobre** 2022. Les modalités de rendu vous seront précisées par votre enseignant.\n",
    "\n",
    "**Evaluation**\n",
    "- Le projet comptera pour 40% de la note de SAE 1.01. <BR>\n",
    "    Il sera particulièrement tenu compte de la qualité du code, des **commentaires** et **docstrings**, des fonctions de **tests unitaires** pour les fonctions renvoyant des résultats. <BR><BR>\n",
    "    \n",
    "- Le contrôle compte pour 60% de la note finale."
   ]
  },
  {
   "cell_type": "markdown",
   "metadata": {
    "deletable": false,
    "editable": false,
    "run_control": {
     "frozen": true
    }
   },
   "source": [
    "## <center> Sujet </center>\n",
    "\n",
    "Une *communauté* est un ensemble de personnes développant des interactions dans un réseau social.\n",
    "\n",
    "Dans ce projet, on étudie des communautés modélisées sous différentes formes. Pour cela, on développe des fonctions permettant d'extraire des informations relatives à ces réseaux. "
   ]
  },
  {
   "cell_type": "markdown",
   "metadata": {
    "deletable": false,
    "editable": false,
    "run_control": {
     "frozen": true
    }
   },
   "source": [
    "On modélise, dans un premier temps, les interactions entre personnes dans un tableau `amis` de chaînes de caractères contenant les prénoms des membres du réseau et tel que `amis[2*i]` a des interactions avec `amis[2*i+1]`.\n",
    "\n",
    "On suppose que chaque interaction n'est décrite qu'une seule fois dans le tableau, et qu'une personne n'a pas d'interaction avec elle-même.\n",
    "\n",
    "**Exemple** : "
   ]
  },
  {
   "cell_type": "code",
   "execution_count": null,
   "metadata": {
    "deletable": false,
    "editable": false
   },
   "outputs": [],
   "source": [
    "amis = [\"Alice\", \"Bob\", \"Alice\", \"Charlie\", \"Bob\", \"Denis\"]"
   ]
  },
  {
   "cell_type": "markdown",
   "metadata": {
    "deletable": false,
    "editable": false,
    "run_control": {
     "frozen": true
    }
   },
   "source": [
    "Ici, \n",
    "- Alice a des interactions Bob et Charlie, \n",
    "- Bob a des intractions avec Alice et Denis,\n",
    "- Charlie a des interactions avec Alice et\n",
    "- Denis a des interactions avec Bob."
   ]
  },
  {
   "cell_type": "markdown",
   "metadata": {
    "deletable": false,
    "editable": false,
    "run_control": {
     "frozen": true
    }
   },
   "source": [
    "#### Question préliminaire : Modélisation d'un réseau par un tableau\n",
    "\n",
    "Muriel, Yasmine et Joël sont amis. Yasmine est amie avec Thomas. \n",
    "Joël, Nassim, Andrea et Ali sont amis. Thomas est ami de Daria et Carole. Thierry, Axel et Léo sont amis. Léo est ami de Valentin qui est ami d'Andrea.\n",
    "\n",
    "- Construire un tableau `p_amis` qui modélise ce réseau d'amitié en selon le principe qui vient d'être décrit."
   ]
  },
  {
   "cell_type": "code",
   "execution_count": 1,
   "metadata": {},
   "outputs": [
    {
     "name": "stdout",
     "output_type": "stream",
     "text": [
      "Joël est ami avec Muriel\n",
      "Muriel est ami avec Yasmine\n",
      "Yasmine est ami avec Muriel\n",
      "Muriel est ami avec Joël\n",
      "Joël est ami avec Yasmine\n",
      "Yasmine est ami avec Thomas\n",
      "Thomas est ami avec Daria\n",
      "Daria est ami avec Thomas\n",
      "Thomas est ami avec Carole\n",
      "Carole est ami avec Thomas\n",
      "Thomas est ami avec Yasmine\n",
      "Yasmine est ami avec Joël\n",
      "Joël est ami avec Nassim\n",
      "Nassim est ami avec Andrea\n",
      "Andrea est ami avec Nassim\n",
      "Nassim est ami avec Ali\n",
      "Ali est ami avec Nassim\n",
      "Nassim est ami avec Joël\n",
      "Joël est ami avec Andrea\n",
      "Andrea est ami avec Ali\n",
      "Ali est ami avec Joël\n",
      "Joël est ami avec Ali\n",
      "Ali est ami avec Andrea\n",
      "Andrea est ami avec Valentin\n",
      "Valentin est ami avec Léo\n",
      "Léo est ami avec Thierry\n",
      "Thierry est ami avec Léo\n",
      "Léo est ami avec Axel\n",
      "Axel est ami avec Thierry\n",
      "Thierry est ami avec Axel\n",
      "Axel est ami avec Léo\n",
      "Léo est ami avec Valentin\n",
      "Valentin est ami avec Andrea\n",
      "Andrea est ami avec Joël\n"
     ]
    }
   ],
   "source": [
    "p_amis = [\"Joël\", \"Muriel\", \"Yasmine\", \"Muriel\", \"Joël\", \"Yasmine\", \"Thomas\", \"Daria\", \"Thomas\",\n",
    "           \"Carole\", \"Thomas\", \"Yasmine\", \"Joël\", \"Nassim\", \"Andrea\",\"Nassim\", \"Ali\", \"Nassim\", \"Joël\", \"Andrea\", \n",
    "          \"Ali\", \"Joël\", \"Ali\", \"Andrea\", \"Valentin\", \"Léo\", \"Thierry\", \"Léo\", \"Axel\", \"Thierry\", \"Axel\", \"Léo\",\n",
    "           \"Valentin\", \"Andrea\", \"Joël\"\n",
    "          ]\n",
    "\n",
    "#Fonction test qui permet de visualiser les relations.\n",
    "\n",
    "def affiche_amis(tab):\n",
    "    \"\"\" PARAMETRES :\n",
    "        tab   TYPE TABLEAU\n",
    "        -------------------\n",
    "        Fonction qui prend en compte un tableau et affiche toutes les relations qui en découle.\n",
    "        \n",
    "        \"\"\"\n",
    "    i=0\n",
    "    while i!=len(tab)-1:\n",
    "        print(tab[i],\"est ami avec\" ,tab[i+1])\n",
    "        if i == len(tab):\n",
    "            i = len(tab)\n",
    "        i+=1\n",
    "    \n",
    "affiche_amis(p_amis)\n",
    "\n",
    "\n",
    "\n",
    "\n",
    "\n"
   ]
  },
  {
   "cell_type": "markdown",
   "metadata": {
    "deletable": false,
    "editable": false,
    "run_control": {
     "frozen": true
    }
   },
   "source": [
    "#### Question 1 : Nombre d'amis d'une personne\n",
    "\n",
    "- Étant donné un tableau `amis`, écrire une fonction `nb_amis(amis, prenom)` qui retourne le nombre d'amis de `prenom` à partir des données du tableau `amis`. "
   ]
  },
  {
   "cell_type": "code",
   "execution_count": 43,
   "metadata": {},
   "outputs": [
    {
     "name": "stdout",
     "output_type": "stream",
     "text": [
      "2\n",
      "Test de la fonction nb_amis : ok\n"
     ]
    }
   ],
   "source": [
    "p_amis = [\"Joël\", \"Muriel\", \"Yasmine\", \"Muriel\", \"Joël\", \"Yasmine\", \"Thomas\", \"Daria\", \"Thomas\",\n",
    "           \"Carole\", \"Thomas\", \"Yasmine\", \"Joël\", \"Nassim\", \"Andrea\",\"Nassim\", \"Ali\", \"Nassim\", \"Joël\", \"Andrea\", \n",
    "          \"Ali\", \"Joël\", \"Ali\", \"Andrea\", \"Valentin\", \"Léo\", \"Thierry\", \"Léo\", \"Axel\", \"Thierry\", \"Axel\", \"Léo\",\n",
    "           \"Valentin\", \"Andrea\", \"Joël\"\n",
    "          ]\n",
    "        \n",
    "def nb_amis(amis, prenom) :\n",
    "    \"\"\"\n",
    "    Retourne un message indiquant quel est le nombre s'amis \n",
    "    du prenom passé en paramètre du tableau amis.\n",
    "\n",
    "    :param amis: le tableau dont on retourne le nombre d'amis de prenom \n",
    "    :type amis: list\n",
    "    :param prenom: la chaine de catactère dont on cherche le nombres d'amis\n",
    "    :type prenom: str\n",
    "    :return: le nombre d'amis de prenom\n",
    "    :rtype: int\n",
    "\n",
    "    :Exemples:\n",
    "    nb_amis([\"Muriel\", \"Yasmine\", \"Muriel\", \"Joël\", \"Yasmine\", \"Joël\"], \"Yasmine\")\n",
    "    Nombre d'amis : 2\n",
    "    \"\"\"\n",
    "    # création d'une boucle pour parcourir chaque élément de la liste et les comparer à prenom\n",
    "    i = 0\n",
    "    nb = 0\n",
    "    while i < len(amis):\n",
    "        if amis[i] == prenom :  # teste si la valeur du tableau d'indice i est égal à prenom \n",
    "            nb += 1\n",
    "        i += 1\n",
    "    return nb  # retourne le nombre d'amis de prenom\n",
    "print (nb_amis(p_amis, \"Muriel\"))\n",
    "def test_nb_amis():\n",
    "    assert nb_amis([\"Muriel\", \"Yasmine\", \"Muriel\", \"Joël\", \"Yasmine\", \"Joël\"], \"Yasmine\") == 2\n",
    "    assert not nb_amis([\"Muriel\", \"Yasmine\", \"Muriel\", \"Joël\", \"Yasmine\", \"Joël\"], \"Muriel\") == 5\n",
    "    print(\"Test de la fonction nb_amis : ok\")\n",
    "\n",
    "test_nb_amis()\n",
    "\n",
    "\n",
    "\n",
    "\n"
   ]
  },
  {
   "cell_type": "markdown",
   "metadata": {
    "deletable": false,
    "editable": false,
    "run_control": {
     "frozen": true
    }
   },
   "source": [
    "#### Question 2 : Nombre de membres d'un réseau social \n",
    "\n",
    "- Ecrire une fonction `taille_reseau(amis)` qui à partir d'un tableau `amis`retourne le nombre de personnes distinctes participant à ce réseau social."
   ]
  },
  {
   "cell_type": "code",
   "execution_count": 44,
   "metadata": {},
   "outputs": [
    {
     "name": "stdout",
     "output_type": "stream",
     "text": [
      "13\n",
      "Tout est bon.\n"
     ]
    }
   ],
   "source": [
    "p_amis = [\"Joël\", \"Muriel\", \"Yasmine\", \"Muriel\", \"Joël\", \"Yasmine\", \"Thomas\", \"Daria\", \"Thomas\",\n",
    "           \"Carole\", \"Thomas\", \"Yasmine\", \"Joël\", \"Nassim\", \"Andrea\",\"Nassim\", \"Ali\", \"Nassim\", \"Joël\", \"Andrea\", \n",
    "          \"Ali\", \"Joël\", \"Ali\", \"Andrea\", \"Valentin\", \"Léo\", \"Thierry\", \"Léo\", \"Axel\", \"Thierry\", \"Axel\", \"Léo\",\n",
    "           \"Valentin\", \"Andrea\", \"Joël\"\n",
    "          ]\n",
    "\n",
    "\n",
    "    \n",
    "def taille_reseau(amis):\n",
    "    \"\"\"\n",
    "    Retourne le nombre de personnes distinctes qui appartient au tableau amis.\n",
    "\n",
    "    :param amis: le tableau dont on retourne le nombre de personnes distinctes\n",
    "    :type amis: list\n",
    "    :return: le nombre de personnes distinctes\n",
    "    :rtype: int\n",
    "\n",
    "    :Exemple:\n",
    "    taille_reseau([\"Muriel\", \"Yasmine\", \"Muriel\", \"Joël\", \"Yasmine\", \"Joël\"])\n",
    "    nombre de personnes distinctes : 3\n",
    "    \"\"\"\n",
    "    # on crée un tableau vide pour stocker le nombre de personnes distinctes du tableau amis\n",
    "    listprenom = []\n",
    "\n",
    "    # création d'une boucle pour parcourir chaque élément de la liste \n",
    "    i = 0\n",
    "    while i < len(amis):\n",
    "        if amis[i] not in listprenom:  # teste si la valeur du tableau d'indice i n'appartient pas au tableau listeprenom\n",
    "            listprenom.append(amis[i])\n",
    "        i += 1\n",
    "    return len(listprenom)  # retourne le nombre de personnes distinctes participant à ce réseau social\n",
    "print(taille_reseau(p_amis))\n",
    "\n",
    "def test_taille_reseau():\n",
    "    assert taille_reseau([\"Joël\", \"Nassim\", \"Joël\", \"Andrea\", \"Joël\", \"Andrea\", \"Nassim\", \"Ali\", \"Andrea\", \"Ali\"]) == 4\n",
    "    assert not taille_reseau([\"Joël\", \"Nassim\", \"Joël\", \"Andrea\", \"Joël\", \"Andrea\", \"Nassim\", \"Ali\", \"Andrea\", \"Ali\"]) == 6\n",
    "    print(\"Tout est bon.\")\n",
    "\n",
    "test_taille_reseau()\n",
    "\n"
   ]
  },
  {
   "cell_type": "markdown",
   "metadata": {
    "deletable": false,
    "editable": false,
    "run_control": {
     "frozen": true
    }
   },
   "source": [
    "#### Question 3 :  Lecture des données d'un réseau à partir d'un fichier\n",
    "On suppose que les données sur un réseau social sont stockées dans un fichier CSV de la manière suivante :\n",
    "```\n",
    "prenom1;prenom2\n",
    "prenom3;prenom4\n",
    "prenom5;prenom6\n",
    "...\n",
    "```\n",
    "Autrement dit, chaque ligne du fichier contient une paire de prénoms séparés par un `';'` correspondant à deux personnes ayant des interactions. \n",
    "\n",
    "**NB** : Quatre fichiers CSV de ce type sont fournis dans le répertoire `files/`, il s'agit des fichiers`Communaute1.csv`, `Communaute2.csv`,`Communaute3.csv` et `Communaute4.csv`. \n",
    "Il est recommandé d'en fabriquer d'autres. \n",
    "\n",
    "- Ecrire une fonction `lecture_reseau(path)` prenant en paramètre un chemin vers un tel fichier CSV et retournant un tableau modélisant les interactions entre les personnes du fichier."
   ]
  },
  {
   "cell_type": "code",
   "execution_count": 45,
   "metadata": {},
   "outputs": [
    {
     "name": "stdout",
     "output_type": "stream",
     "text": [
      "['Barbra', 'Cloe', 'Louis', 'Rufino', 'Idelle', 'Mady', 'Björn', 'Giedrius', 'Cloe', 'Glenys', 'Barbra', 'Vittorio', 'Mady', 'Rufino', 'Barbra', 'Marwa', 'Cloe', 'Louis', 'Björn', 'Faizel', 'Giedrius', 'Rufino', 'Mady', 'Vittore', 'Giedrius', 'Louis', 'Cloe', 'Placide', 'Cloe', 'Teodor', 'Kirsa', 'Vittorio', 'Idelle', 'Marwa', 'Placide', 'Rufino', 'Giedrius', 'Illtyd', 'Björn', 'Cloe', 'Björn', 'Rufino', 'Louis', 'Placide', 'Barbra', 'Rufino', 'Louis', 'Vittorio', 'Olavi', 'Placide', 'Rufino', 'Teodor', 'Louis', 'Olavi', 'Faizel', 'Rufino', 'Olavi', 'Vittorio', 'Barbra', 'Louis', 'Placide', 'Vittorio', 'Barbra', 'Kirsa', 'Illtyd', 'Rufino', 'Jakob', 'Mady', 'Barbra', 'Vittore', 'Björn', 'Idelle', 'Cloe', 'Vittore', 'Olavi', 'Teodor', 'Jakob', 'Placide', 'Cain', 'Vittorio', 'Barbra', 'Faizel', 'Giedrius', 'Mady', 'Kirsa', 'Vittore', 'Barbra', 'Mady', 'Jakob', 'Kirsa', 'Björn', 'Mady', 'Björn', 'Teodor', 'Cloe', 'Vittorio', 'Illtyd', 'Olavi', 'Olavi', 'Rufino', 'Giedrius', 'Glenys', 'Rufino', 'Vittorio', 'Björn', 'Olavi', 'Björn', 'Louis', 'Louis', 'Vittore', 'Mady', 'Teodor', 'Vittore', 'Vittorio', 'Faizel', 'Placide', 'Cloe', 'Mady', 'Cain', 'Placide', 'Mady', 'Vittorio', 'Cloe', 'Idelle', 'Mady', 'Placide', 'Giedrius', 'Vittorio', 'Faizel', 'Olavi', 'Björn', 'Vittore', 'Idelle', 'Illtyd', 'Barbra', 'Olavi']\n",
      "Tout est bon\n"
     ]
    }
   ],
   "source": [
    "def lecture_reseau(path):\n",
    "    \"\"\"\n",
    "    Retourne un tableau du réseaux d'amis du fichier csv \n",
    "    définit dans le path.\n",
    "\n",
    "    :param path: chemin du fichier\n",
    "    :type path: csv\n",
    "    :return: tableau des relations du fichier\n",
    "    :rtype: list\n",
    "\n",
    "    \"\"\"\n",
    "    f = open(path, 'r', encoding='UTF8') # Ouverture du fichier et association du flux à une variable\n",
    "    tab_li = []  # on crée un tableau pour stoker les personnes du fichier.\n",
    "    li = f.readline()\n",
    "    while( '' != li ) :# création d'une boucle pour parcourir chaque ligne du fichier tant que la ligne n'est pas vide\n",
    "        li = li.split(';')\n",
    "        tab_li.append(li[0].strip())\n",
    "        tab_li.append(li[1].strip())\n",
    "        li = f.readline()\n",
    "    f.close()  #ferme le dossier pour exécuter la cellule\n",
    "    return tab_li  # retourne un tableau modélisant les interactions entre les personnes du fichier.\n",
    "print(lecture_reseau('newfiles/Communaute1.csv'))\n",
    "def test_lecture_reseau():\n",
    "    assert lecture_reseau('newfiles/test.csv') == ['Barbra', 'Cloe', 'Louis', 'Rufino', 'Idelle', 'Mady', 'Björn', 'Giedrius', 'Cloe', 'Glenys']\n",
    "    assert not lecture_reseau('newfiles/test.csv') == ['Mady']\n",
    "    print(\"Tout est bon\")\n",
    "\n",
    "test_lecture_reseau()"
   ]
  },
  {
   "cell_type": "markdown",
   "metadata": {
    "deletable": false,
    "editable": false,
    "run_control": {
     "frozen": true
    }
   },
   "source": [
    "#### Question 4 : Modélisation d'un réseau par un dictionnaire\n",
    "On préfère pour la suite, utiliser une modélisation du réseau social par un dictionnaire dont où les clés sont les prénoms des personnes du réseau et la valeur associé à une clé est le tableau des amis de la personne indiquée par la clé.\n",
    "\n",
    "- A partir d'un tableau `amis` modélisant les interactions entre personnes d'un réseau, écrire une fonction `dico_reseau(amis)` qui retourne un dictionnaire dont les clés sont les prénoms des membres du réseau et les valeurs le tableau de leurs amis."
   ]
  },
  {
   "cell_type": "code",
   "execution_count": 38,
   "metadata": {
    "scrolled": true
   },
   "outputs": [
    {
     "ename": "IndentationError",
     "evalue": "unindent does not match any outer indentation level (<tokenize>, line 22)",
     "output_type": "error",
     "traceback": [
      "\u001b[1;36m  File \u001b[1;32m<tokenize>:22\u001b[1;36m\u001b[0m\n\u001b[1;33m    list(dico_interaction = {})# on créé un dictionnaire vide\u001b[0m\n\u001b[1;37m    ^\u001b[0m\n\u001b[1;31mIndentationError\u001b[0m\u001b[1;31m:\u001b[0m unindent does not match any outer indentation level\n"
     ]
    }
   ],
   "source": [
    "p_amis = [\"Joël\", \"Muriel\", \"Yasmine\", \"Muriel\", \"Joël\", \"Yasmine\", \"Thomas\", \"Daria\", \"Thomas\",\n",
    "           \"Carole\", \"Thomas\", \"Yasmine\", \"Joël\", \"Nassim\", \"Andrea\",\"Nassim\", \"Ali\", \"Nassim\", \"Joël\", \"Andrea\", \n",
    "          \"Ali\", \"Joël\", \"Ali\", \"Andrea\", \"Valentin\", \"Léo\", \"Thierry\", \"Léo\", \"Axel\", \"Thierry\", \"Axel\", \"Léo\",\n",
    "           \"Valentin\", \"Andrea\", \"Joël\"\n",
    "          ]\n",
    "\n",
    "\n",
    "def dico_reseau(amis):\n",
    "           \"\"\"\n",
    "    retourne un dictionnaire dont les clés sont les prénoms des membres du réseau et \n",
    "    les valeurs le tableau de leurs amis.\n",
    "        PARAMETRES :\n",
    "        :param amis: tableau\n",
    "        :type amis: list\n",
    "        :return: dictionnaire\n",
    "        :rtype: dict\n",
    "\n",
    "       :Exemples:\n",
    "        dico_reseau([\"Muriel\", \"Yasmine\", \"Muriel\", \"Joël\", \"Yasmine\", \"Joël\", \"Muriel\",\"Joe\"])\n",
    "        {'Muriel':['Yasmine',''Joël','Joe'], 'Yasmine':[]}\n",
    "        \"\"\"\n",
    "    list(dico_interaction = {}# on créé un dictionnaire vide\n",
    "    i = 1#on définit i a 1\n",
    "    while i != len(amis):#tant que i est différent\n",
    "        if amis[i-1] in dico_interaction:# si ami a la valeur i-1 est dans le dictionnaire\n",
    "                dico_interaction[amis[i-1]].append(amis[i])#on met la valeur a l'indice i du tableau amis dans l'indice i-1 du tableau dico_interaction\n",
    "                i += 1\n",
    "        else:#sinon\n",
    "            dico_interaction[amis[i-1]] = [amis[i]]#la valeur a l'indice i-1 du tableau dico_interaction prend la valeur de la clé a la valeur i du tableau amis\n",
    "            i += 1\n",
    "    return dico_interaction#on retourne dico_interaction\n",
    "\n",
    "print(dico_reseau(p_amis))\n",
    "\n",
    "\n",
    "\n",
    "\n"
   ]
  },
  {
   "cell_type": "code",
   "execution_count": 46,
   "metadata": {},
   "outputs": [
    {
     "name": "stdout",
     "output_type": "stream",
     "text": [
      "{'Muriel': ['Yasmine', 'Joël'], 'Yasmine': ['Joël', 'Thomas', 'Muriel'], 'Joël': ['Nassim', 'Andrea', 'Ali', 'Yasmine', 'Muriel'], 'Nassim': ['Andrea', 'Ali', 'Joël'], 'Andrea': ['Ali', 'Valentin', 'Nassim', 'Joël'], 'Thomas': ['Daria', 'Carole', 'Yasmine'], 'Thierry': ['Axel', 'Léo'], 'Axel': ['Léo', 'Thierry'], 'Léo': ['Valentin', 'Axel', 'Thierry'], 'Valentin': ['Andrea', 'Léo'], 'Carole': ['Thomas'], 'Daria': ['Thomas'], 'Ali': ['Andrea', 'Nassim', 'Joël']}\n",
      "Tout est bon\n"
     ]
    }
   ],
   "source": [
    "p_amis = [\"Muriel\", \"Yasmine\", \"Muriel\", \"Joël\", \"Yasmine\", \"Joël\", \n",
    "          \"Yasmine\", \"Thomas\", \n",
    "          \"Joël\", \"Nassim\", \"Joël\", \"Andrea\", \"Joël\", \"Ali\", \"Nassim\", \"Andrea\", \"Nassim\", \"Ali\", \"Andrea\", \"Ali\", \n",
    "          \"Thomas\", \"Daria\", \"Thomas\", \"Carole\", \n",
    "          \"Thierry\", \"Axel\", \"Thierry\", \"Léo\", \"Axel\", \"Léo\", \n",
    "          \"Léo\", \"Valentin\", \"Valentin\", \"Andrea\"\n",
    "         ]\n",
    "\n",
    "\n",
    "def dico_reseau(amis) :\n",
    "    \n",
    "    dico = {}  # on créé un dictionnaire dont les clés sont les prénoms des membres du réseau et les valeurs le tableau de leurs amis\n",
    "    i = 0\n",
    "    while i < len(amis) : \n",
    "        if amis[i] not in dico :\n",
    "            dico[amis[i]] = [amis[i+1]]\n",
    "        else :\n",
    "            dico[amis[i]].append(amis[i+1])\n",
    "        i += 2\n",
    "    i = len(amis)-1\n",
    "    while i >= 0 : \n",
    "        if amis[i] not in dico :\n",
    "            dico[amis[i]] = [amis[i-1]]\n",
    "        else :\n",
    "            dico[amis[i]].append(amis[i-1])\n",
    "        i -= 2\n",
    "    return dico\n",
    "print(dico_reseau(p_amis))\n",
    "def test_dico_reseau():\n",
    "    assert dico_reseau([\"Muriel\", \"Yasmine\", \"Muriel\", \"Joël\", \"Yasmine\", \"Joël\"]) == {'Muriel': ['Yasmine', 'Joël'], 'Yasmine': ['Joël', 'Muriel'], 'Joël': ['Yasmine', 'Muriel']}\n",
    "    assert not dico_reseau([\"Muriel\", \"Yasmine\", \"Muriel\", \"Joël\", \"Yasmine\", \"Joël\"]) == {'Muriel': ['Yasmine'], 'Joël': ['Yasmine', 'Muriel']}\n",
    "    print(\"Tout est bon\")\n",
    "\n",
    "test_dico_reseau()"
   ]
  },
  {
   "cell_type": "markdown",
   "metadata": {
    "deletable": false,
    "editable": false,
    "run_control": {
     "frozen": true
    }
   },
   "source": [
    "#### Question 5 : Nombre d'amis des personnes les plus populaires\n",
    "\n",
    "- A partir d'un dictionnaire `dico_reseau` modélisant les interactions dans un réseau d'amis, écrire une fonction `nb_amis_plus_pop (dico_reseau)` qui retourne le nombre d'amis des personnes les plus populaires du réseau."
   ]
  },
  {
   "cell_type": "code",
   "execution_count": 47,
   "metadata": {},
   "outputs": [
    {
     "name": "stdout",
     "output_type": "stream",
     "text": [
      "5\n",
      "Tout est bon.\n"
     ]
    }
   ],
   "source": [
    "dico_reseau = {'Joël': ['Muriel', 'Yasmine', 'Nassim', 'Andrea', 'Ali'], \n",
    "               'Muriel': ['Yasmine', 'Joël'], \n",
    "               'Yasmine': ['Muriel', 'Thomas', 'Joël'], \n",
    "               'Thomas': ['Daria', 'Carole', 'Yasmine'], \n",
    "               'Daria': ['Thomas'], \n",
    "               'Carole': ['Thomas'], \n",
    "               'Nassim': ['Andrea', 'Ali', 'Joël'], \n",
    "               'Andrea': ['Nassim', 'Ali', 'Valentin', 'Joël'], \n",
    "               'Ali': ['Nassim', 'Joël', 'Andrea'], \n",
    "               'Valentin': ['Léo', 'Andrea'], \n",
    "               'Léo': ['Thierry', 'Axel', 'Valentin'], \n",
    "               'Thierry': ['Léo', 'Axel'], \n",
    "               'Axel': ['Thierry', 'Léo']\n",
    "              }\n",
    "\n",
    "\n",
    "\n",
    "def nb_amis_plus_pop(dico_reseau):\n",
    "    \"\"\" \n",
    "    Retourne un message indiquant le nombre d'amis du plus populaire\n",
    "    du dictionnaire dico_reseau.\n",
    "\n",
    "    :param dico_reseau: le tableau dont on retourne le nombre d'amis du plus populaire\n",
    "    :type dico_reseau: dict\n",
    "    :return: le nombre d'amis du plus populaire\n",
    "    :rtype: int\n",
    "\n",
    "    :Exemples:\n",
    "    nb_ami_plus_pop({'Joël': ['Muriel', 'Yasmine', 'Nassim', 'Andrea', 'Ali'], 'Muriel': ['Yasmine', 'Joël']})\n",
    "    Nombre d'amis du plus populaire : 5\n",
    "    \"\"\"\n",
    "    tab= list(dico_reseau.values())  # cree un tableau qui prend les valeurs de dico_reseau\n",
    "    nb = len(tab[0])  # le nombre d'amis du premier tableau\n",
    "    i = 1\n",
    "    # création d'une boucle qui compare le nombre d'amis entre 2 tableau et change nb par la valeur la plus grande \n",
    "    while i < len(dico_reseau):\n",
    "        if nb < len(tab[i]):\n",
    "            nb = len(tab[i])\n",
    "        i += 1\n",
    "    return nb  # on retourne le nombre d'amis du plus populaire\n",
    "print(nb_amis_plus_pop(dico_reseau))\n",
    "def test_nb_amis_plus_pop():\n",
    "    assert nb_amis_plus_pop({'Joël': ['Muriel', 'Yasmine', 'Nassim', 'Andrea', 'Ali'], \n",
    "               'Muriel': ['Yasmine', 'Joël'], \n",
    "               'Yasmine': ['Muriel', 'Thomas', 'Joël']}) == 5\n",
    "    assert not nb_amis_plus_pop({'Joël': ['Muriel', 'Yasmine', 'Nassim', 'Andrea', 'Ali'], \n",
    "               'Muriel': ['Yasmine', 'Joël'], \n",
    "               'Yasmine': ['Muriel', 'Thomas', 'Joël']}) == 3\n",
    "    print(\"Tout est bon.\")\n",
    "\n",
    "test_nb_amis_plus_pop()\n",
    "\n",
    "\n",
    "\n",
    "\n"
   ]
  },
  {
   "cell_type": "markdown",
   "metadata": {
    "deletable": false,
    "editable": false,
    "run_control": {
     "frozen": true
    }
   },
   "source": [
    "#### Question 6 : Personnes les plus populaires\n",
    "\n",
    "- A partir d'un dictionnaire `dico_reseau` modélisant les interactions dans un réseau d'amis, écrire une fonction `les_plus_pop (dico_reseau)` qui retourne un tableau contenant les prénoms de toutes les personnes les plus populaires du réseau."
   ]
  },
  {
   "cell_type": "code",
   "execution_count": 48,
   "metadata": {},
   "outputs": [
    {
     "name": "stdout",
     "output_type": "stream",
     "text": [
      "['Joël']\n",
      "Tout est bon\n"
     ]
    }
   ],
   "source": [
    "dico_reseau = {\n",
    "               'Muriel': ['Yasmine', 'Joël'], \n",
    "               'Yasmine': ['Muriel', 'Thomas', 'Joël'], \n",
    "               'Thomas': ['Daria', 'Carole', 'Yasmine'], \n",
    "               'Daria': ['Thomas'], \n",
    "               'Carole': ['Thomas'], \n",
    "               'Nassim': ['Andrea', 'Ali', 'Joël'], \n",
    "               'Andrea': ['Nassim', 'Ali', 'Valentin', 'Joël'], \n",
    "               'Ali': ['Nassim', 'Joël', 'Andrea'], \n",
    "               'Valentin': ['Léo', 'Andrea'], \n",
    "               'Léo': ['Thierry', 'Axel', 'Valentin'], \n",
    "               'Thierry': ['Léo', 'Axel'], \n",
    "               'Axel': ['Thierry', 'Léo'],\n",
    "               'Joël': ['Muriel', 'Yasmine', 'Nassim', 'Andrea', 'Ali'],\n",
    "              }\n",
    "\n",
    "def les_plus_pop(dico_reseau):\n",
    "    \"\"\" PARAMETRES :  \n",
    "        Retourne un message indiquant le prénom du plus populaire\n",
    "        du dictionnaire dico_reseau.\n",
    "\n",
    "        \n",
    "        PARAMETRES :\n",
    "        :param dico_reseau: le dictionnaire dont on retourne les prénoms des plus populaire\n",
    "        :type dico_reseau: dict\n",
    "        :return: le prénom du plus populaire\n",
    "        :rtype: str\n",
    "        \n",
    "         :Exemples:\n",
    "        les_plus_pop([\"Muriel\", \"Yasmine\", \"Muriel\", \"Joël\", \"Yasmine\", \"Joël\", \"Muriel\",\"Joe\"])\n",
    "        Plus populaire : ['Muriel']\n",
    "        \"\"\"\n",
    "    res=nb_amis_plus_pop(dico_reseau) # on stocke dans res le résultat \n",
    "    cles=list(dico_reseau) # on stocke dans cles les clés de dico_reseau\n",
    "    valeurs= list(dico_reseau.values()) # on stocke dans valeurs les valeurs des clés de dico reseau\n",
    "    tab=[]\n",
    "    i=0\n",
    "    while i<len(cles): # on créé une boucle avec la longueur de cles\n",
    "        if res==len(valeurs[i]): # si res est égal a la longueur de valeur\n",
    "            tab.append(cles[i]) # on ajoute a tab le nom de la clé a cles[i]\n",
    "        i+=1\n",
    "    return tab\n",
    "print(les_plus_pop(dico_reseau))\n",
    "\n",
    "\n",
    "def test_les_plus_pop():\n",
    "    assert les_plus_pop({'Joël': ['Muriel', 'Yasmine', 'Nassim', 'Andrea', 'Ali'], \n",
    "               'Muriel': ['Yasmine', 'Joël'], \n",
    "               'Yasmine': ['Muriel', 'Thomas', 'Joël'], \n",
    "               'Thomas': ['Daria', 'Carole', 'Yasmine'], \n",
    "               'Daria': ['Thomas']}) == ['Joël']\n",
    "    assert not les_plus_pop({'Joël': ['Muriel', 'Yasmine', 'Nassim', 'Andrea', 'Ali'], \n",
    "               'Muriel': ['Yasmine', 'Joël'], \n",
    "               'Yasmine': ['Muriel', 'Thomas', 'Joël'], \n",
    "               'Thomas': ['Daria', 'Carole', 'Yasmine'], \n",
    "               'Daria': ['Thomas']}) == ['Ali']\n",
    "    print(\"Tout est bon\")\n",
    "\n",
    "test_les_plus_pop()\n",
    "\n",
    "\n",
    "\n",
    "\n",
    "\n",
    "\n"
   ]
  },
  {
   "cell_type": "code",
   "execution_count": null,
   "metadata": {},
   "outputs": [],
   "source": []
  }
 ],
 "metadata": {
  "kernelspec": {
   "display_name": "Python 3 (ipykernel)",
   "language": "python",
   "name": "python3"
  },
  "language_info": {
   "codemirror_mode": {
    "name": "ipython",
    "version": 3
   },
   "file_extension": ".py",
   "mimetype": "text/x-python",
   "name": "python",
   "nbconvert_exporter": "python",
   "pygments_lexer": "ipython3",
   "version": "3.9.12"
  },
  "latex_envs": {
   "LaTeX_envs_menu_present": true,
   "autoclose": false,
   "autocomplete": true,
   "bibliofile": "biblio.bib",
   "cite_by": "apalike",
   "current_citInitial": 1,
   "eqLabelWithNumbers": true,
   "eqNumInitial": 1,
   "hotkeys": {
    "equation": "Ctrl-E",
    "itemize": "Ctrl-I"
   },
   "labels_anchors": false,
   "latex_user_defs": false,
   "report_style_numbering": false,
   "user_envs_cfg": false
  }
 },
 "nbformat": 4,
 "nbformat_minor": 2
}
